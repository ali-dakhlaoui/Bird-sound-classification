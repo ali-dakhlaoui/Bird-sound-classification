{
 "cells": [
  {
   "cell_type": "code",
   "execution_count": null,
   "id": "4d4165ef-ef09-4d7d-bc6c-257b8f9b9f04",
   "metadata": {},
   "outputs": [],
   "source": [
    "import librosa as librosa\n",
    "import numpy as np\n",
    "import pandas as pd\n",
    "import glob\n",
    "import matplotlib.pyplot as plt\n",
    "import scipy\n",
    "%matplotlib inline\n",
    "import librosa.display\n",
    "from tqdm.notebook import tqdm\n",
    "import warnings  \n",
    "warnings.filterwarnings('ignore') # Librosa's specshow gives warnings about a matplotlib deprecation thing"
   ]
  },
  {
   "cell_type": "code",
   "execution_count": null,
   "id": "56995c7b-94ee-4992-9bfd-afca2323f139",
   "metadata": {},
   "outputs": [],
   "source": [
    " !pip install librosa"
   ]
  },
  {
   "cell_type": "code",
   "execution_count": null,
   "id": "7c009f95-abb6-464e-8bba-660558787c7e",
   "metadata": {},
   "outputs": [],
   "source": [
    "train_files = glob.glob('train_audio/*/*.ogg')\n",
    "train_files[0]"
   ]
  },
  {
   "cell_type": "code",
   "execution_count": null,
   "id": "226b3586-1188-4713-8228-b24318b609c9",
   "metadata": {},
   "outputs": [],
   "source": [
    "# chunk, rate = librosa.load(train_files[200], sr=32000, offset=3, duration=5)\n"
   ]
  },
  {
   "cell_type": "code",
   "execution_count": null,
   "id": "7047f695-7da3-4c99-9263-f82e1e5c4002",
   "metadata": {},
   "outputs": [],
   "source": [
    "# def chunk_to_spec(chunk, SPEC_HEIGHT=64,SPEC_WIDTH=256, rate=32000, FMIN=500, FMAX=12500):\n",
    "#     mel_spec = librosa.feature.melspectrogram(y=chunk, \n",
    "#                                               sr=32000, \n",
    "#                                               n_fft=1024, \n",
    "#                                               hop_length=int(32000 * 5 / (SPEC_WIDTH - 1)), \n",
    "#                                               n_mels=SPEC_HEIGHT, \n",
    "#                                               fmin=FMIN, \n",
    "#                                               fmax=FMAX)\n",
    "#     mel_spec_db = librosa.power_to_db(mel_spec, ref=np.max)\n",
    "#     return mel_spec_db\n",
    "\n",
    "# def display_spec(spec, SPEC_HEIGHT=64,SPEC_WIDTH=256, rate=32000, FMIN=500, FMAX=12500):\n",
    "#     librosa.display.specshow(spec, \n",
    "#                              sr=32000, \n",
    "#                              hop_length=int(32000 * 5 / (SPEC_WIDTH - 1)), \n",
    "#                              x_axis='time', \n",
    "#                              y_axis='mel',\n",
    "#                              fmin=FMIN, \n",
    "#                              fmax=FMAX, \n",
    "#                              cmap=plt.get_cmap('viridis'))\n",
    "    \n",
    "# spec = chunk_to_spec(chunk)\n",
    "# # display_spec(spec) # Will give axis labels in Hs and time\n",
    "# plt.imshow(spec, cmap='inferno') # Simple and compact"
   ]
  },
  {
   "cell_type": "code",
   "execution_count": null,
   "id": "7bb2b988-7372-43da-9917-aba700843db3",
   "metadata": {},
   "outputs": [],
   "source": [
    "\n",
    "# Save spectrogram as png:\n",
    "def saveSpectogram(specgram: np.ndarray, filename: str, label: np.uint8, ind: int) -> None:\n",
    "    bird_name = filename.rsplit('/', 2)[0]\n",
    "    file_id = filename.rsplit('/', 2)[1].rsplit('.', 2)[0]\n",
    "    file_name = IMAGES_DIR + 'class_' + str(labels[i]) + '/' + bird_name + '_' + file_id + '_' + str((ind + 1) * 5) + '.png'\n",
    "    specgram = specgram + 80 # -80 dB -> Min\n",
    "    specgram = specgram.astype(np.uint8) # 0 - 255 the pixel value\n",
    "    plt.axis('off')\n",
    "    plt.imsave(file_name, specgram)\n",
    "    \n",
    "\n",
    "# Common function:\n",
    "def convertAudio(filename: str, label: np.uint8) -> None:\n",
    "    signal = loadAudio(filename=TRAIN_DIR + filename)\n",
    "    frames = framing(\n",
    "        sig=signal,\n",
    "        sample_rate=SAMPLE_RATE,\n",
    "        frame_len=5,\n",
    "        duration_time=librosa.get_duration(\n",
    "            y=signal,\n",
    "            sr=SAMPLE_RATE\n",
    "        )\n",
    "    )\n",
    "    for i in range(frames.shape[0]):\n",
    "        specgram = createSpectrogram(frame=frames[i])\n",
    "        saveSpectogram(\n",
    "            specgram=specgram,\n",
    "            filename=filename,\n",
    "            label=label,\n",
    "            ind=i\n",
    "        )"
   ]
  },
  {
   "cell_type": "code",
   "execution_count": null,
   "id": "957ca140-57ec-49f6-9219-32b7bcc09c96",
   "metadata": {},
   "outputs": [],
   "source": [
    "# def peak_plot(y, sr, FMIN=500, FMAX=12500):\n",
    "#     # PCEN spec\n",
    "#     plt.figure(figsize=(10, 6))\n",
    "#     plt.subplot(3, 1, 1)\n",
    "#     melspec = librosa.feature.melspectrogram(y, sr=sr,\n",
    "#         fmin=FMIN, fmax=FMAX, n_mels=64)\n",
    "#     pcen = librosa.core.pcen(melspec, sr=sr,\n",
    "#         gain=0.8, bias=10, power=0.25, time_constant=0.06, eps=1e-06)\n",
    "#     librosa.display.specshow(pcen, sr=sr,\n",
    "#         fmin=FMIN, fmax=FMAX,\n",
    "#         x_axis='time', y_axis='mel', cmap='magma_r')\n",
    "#     # plt.title('PCEN-based SNR')\n",
    "#     plt.tight_layout()\n",
    "\n",
    "#     # SNR and a smoothed SNR with kernel 15\n",
    "#     plt.subplot(3, 1, 2)\n",
    "#     pcen_snr = np.max(pcen,axis=0) - np.min(pcen,axis=0)\n",
    "#     pcen_snr = librosa.power_to_db(pcen_snr / np.median(pcen_snr))\n",
    "#     median_pcen_snr = scipy.signal.medfilt(pcen_snr, kernel_size=15)\n",
    "#     times = np.linspace(0, len(y)/sr, num=melspec.shape[1])\n",
    "#     plt.plot(times, pcen_snr, color=\"orange\")\n",
    "#     plt.plot(times, median_pcen_snr, color=\"blue\")\n",
    "#     plt.xlim(times[0], times[-1])\n",
    "#     plt.ylim(0, 10)\n",
    "#     # And go through, picking some peaks\n",
    "#     for i in range(12):\n",
    "#         t_peak = np.argmax(median_pcen_snr)\n",
    "#         plt.scatter(times[t_peak], median_pcen_snr[t_peak], c='red', zorder=100)\n",
    "#         median_pcen_snr[t_peak-50:t_peak+50] = 0 # zero out around the peak to find the next one\n",
    "\n",
    "#     # Kernel 55 for even smoother (bad idea?)\n",
    "#     plt.subplot(3, 1, 3)\n",
    "#     median_pcen_snr = scipy.signal.medfilt(pcen_snr, kernel_size=55)\n",
    "#     times = np.linspace(0, len(y)/sr, num=melspec.shape[1])\n",
    "#     plt.plot(times, median_pcen_snr, color=\"blue\")\n",
    "#     plt.xlim(times[0], times[-1])\n",
    "#     plt.ylim(0, 10)\n",
    "#     # And go through, picking some peaks\n",
    "#     for i in range(12):\n",
    "#         t_peak = np.argmax(median_pcen_snr)\n",
    "#         plt.scatter(times[t_peak], median_pcen_snr[t_peak], c='red', zorder=100)\n",
    "#         median_pcen_snr[t_peak-50:t_peak+50] = 0 # zero out around the peak to find the next one"
   ]
  },
  {
   "cell_type": "code",
   "execution_count": null,
   "id": "7923eb09-ec80-49d7-be29-2fb5a092a183",
   "metadata": {},
   "outputs": [],
   "source": [
    "# y, sr = librosa.load(train_files[0], sr=32000, duration=30) # 30 seconds to play with\n",
    "# peak_plot(y, sr)"
   ]
  },
  {
   "cell_type": "code",
   "execution_count": null,
   "id": "1d4fea5c-219c-4c44-81f8-305c271095dc",
   "metadata": {},
   "outputs": [],
   "source": [
    "# y, sr = librosa.load(train_files[100], sr=32000) # A whole recording\n",
    "# peak_plot(y, sr)"
   ]
  },
  {
   "cell_type": "code",
   "execution_count": null,
   "id": "9770a5e5-903a-4e7a-8374-015e0ec9a7df",
   "metadata": {},
   "outputs": [],
   "source": [
    "def get_peaks(y, sr, n_peaks=12, kernel_size=15, zero_dist=50, FMIN=500, FMAX=12500):\n",
    "    # Spec\n",
    "    melspec = librosa.feature.melspectrogram(y, sr=sr,\n",
    "        fmin=FMIN, fmax=FMAX, n_mels=64)\n",
    "    pcen = librosa.core.pcen(melspec, sr=sr,\n",
    "        gain=0.8, bias=10, power=0.25, time_constant=0.06, eps=1e-06)\n",
    "    # SNR\n",
    "    pcen_snr = np.max(pcen,axis=0) - np.min(pcen,axis=0)\n",
    "    pcen_snr = librosa.power_to_db(pcen_snr / np.median(pcen_snr))\n",
    "    # SMoothed SNR\n",
    "    median_pcen_snr = scipy.signal.medfilt(pcen_snr, kernel_size=kernel_size)\n",
    "    # And go through, picking some peaks\n",
    "    times = np.linspace(0, len(y)/sr, num=melspec.shape[1])\n",
    "    peak_locs = []\n",
    "    for i in range(n_peaks):\n",
    "        t_peak = np.argmax(median_pcen_snr)\n",
    "        peak_locs.append(times[t_peak])\n",
    "        median_pcen_snr[t_peak-50:t_peak+50] = 0 # zero out around the peak to find the next one\n",
    "\n",
    "    return peak_locs\n",
    "\n",
    "print(get_peaks(y, sr, n_peaks=5))"
   ]
  },
  {
   "cell_type": "code",
   "execution_count": null,
   "id": "8e023e6e-6c51-46ed-b918-fe3289707c19",
   "metadata": {},
   "outputs": [],
   "source": [
    "# info = []\n",
    "# for f in tqdm(train_files):\n",
    "#     y, sr = librosa.load(f, sr=32000)\n",
    "#     peaks =  get_peaks(y, sr, n_peaks=20)\n",
    "#     info.append({\n",
    "#         'fn':f,\n",
    "#         'len':len(y), \n",
    "#         'label':f.split('train_audio/')[1].split('/')[0],\n",
    "#         'peaks':'#'.join([str(p)[:5] for p in peaks]),  \n",
    "#     })\n",
    "\n",
    "# # Save to file        \n",
    "# info_df = pd.DataFrame(info)\n",
    "# info_df.to_csv('info_df.csv', index=False)\n",
    "# info_df.head()"
   ]
  },
  {
   "cell_type": "code",
   "execution_count": null,
   "id": "03810974-21db-42ee-afc6-771233da0157",
   "metadata": {},
   "outputs": [],
   "source": []
  }
 ],
 "metadata": {
  "kernelspec": {
   "display_name": "Python [conda env:root] *",
   "language": "python",
   "name": "conda-root-py"
  },
  "language_info": {
   "codemirror_mode": {
    "name": "ipython",
    "version": 3
   },
   "file_extension": ".py",
   "mimetype": "text/x-python",
   "name": "python",
   "nbconvert_exporter": "python",
   "pygments_lexer": "ipython3",
   "version": "3.9.12"
  }
 },
 "nbformat": 4,
 "nbformat_minor": 5
}
